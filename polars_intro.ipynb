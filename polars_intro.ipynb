{
 "cells": [
  {
   "cell_type": "markdown",
   "metadata": {
    "slideshow": {
     "slide_type": "slide"
    }
   },
   "source": [
    "# Intro to [polars](https://pola.rs)\n",
    "\n",
    "A brief introduction to the incredible `polars` dataframe library.\n",
    "\n",
    "![polars logo](https://raw.githubusercontent.com/pola-rs/polars-static/master/banner/polars_github_banner.svg)\n",
    "\n",
    "Created by: [Ryan Parker](https://github.com/rparkr), on `2024-08-15`."
   ]
  },
  {
   "cell_type": "markdown",
   "metadata": {
    "slideshow": {
     "slide_type": "slide"
    }
   },
   "source": [
    "# Data analysis in Python\n",
    "As an interpreted language with an easy-to-read syntax, Python is fantastic for data analysis, where rapid iteration enables exploration and accelerates development.\n",
    "\n",
    "Since its first release in 2008, [pandas](https://pandas.pydata.org/docs/) has been the de-facto standard for data analysis in Python, but in recent years other libraries have been created which offer distinct advantages. Some of those include:\n",
    "- [cuDF](https://docs.rapids.ai/api/cudf/stable/): GPU-accelerated dataframe operations with pandas API support\n",
    "- [modin](https://modin.readthedocs.io/en/stable/): pandas API running on distributed compute using [Ray](https://www.ray.io/) or [Dask](https://www.dask.org/) as a backend\n",
    "- [ibis](https://ibis-project.org/): dataframe library supporting dozens of backends (including pandas, polars, DuckDB, and many SQL databases)\n",
    "- [DuckDB](https://duckdb.org/): in-process database engine for running SQL queries on local or remote data\n",
    "- [temporian](https://temporian.readthedocs.io/en/stable/): efficient data processing for timeseries data\n",
    "- [polars](https://pola.rs/): ultra-fast dataframe library written in Rust\n",
    "- and others..."
   ]
  },
  {
   "cell_type": "markdown",
   "metadata": {
    "slideshow": {
     "slide_type": "slide"
    }
   },
   "source": [
    "# Polars advantages\n",
    "- Easy to use\n",
    "- Parallelized across all CPU cores\n",
    "- Zero dependencies\n",
    "- Built on the Apache Arrow in-memory data format: enables zero-copy interoperability with other libraries (e.g., DuckDB, Snowflake)\n",
    "- Handles datasets larger than RAM\n",
    "- Powerful query optimizer\n",
    "- Fully compatible with scikit-learn, thanks to the [Dataframe Interchange Protocol](https://data-apis.org/dataframe-protocol/latest/)\n",
    "- <img src=\"https://www.rust-lang.org/static/images/rust-logo-blk.svg\" width=\"20\"> written in [Rust](https://rust-lang.org), a compiled language that has experienced rapid adoption since its first stable release in 2015 thanks to its C/C++ performance, concurrency, and memory safety"
   ]
  },
  {
   "cell_type": "markdown",
   "metadata": {
    "slideshow": {
     "slide_type": "slide"
    }
   },
   "source": [
    "# Key concepts\n",
    "> Polars uses the Apache Arrow data format, which is column-oriented. The primary data structures for polars are Series and DataFrames, similar to pandas.\n",
    "\n",
    "- Apache Arrow supports many useful data types (many more than those which are supported by NumPy), so you can perform fast, vectorized operations on all kinds of data (nested JSON `structs`, strings, datetimes, etc.)"
   ]
  },
  {
   "cell_type": "markdown",
   "metadata": {
    "slideshow": {
     "slide_type": "subslide"
    }
   },
   "source": [
    "## Contexts\n",
    "In Polars, a _context_ refers to the data available to operate on.\n",
    "\n",
    "The primary contexts are:\n",
    "\n",
    "**Selection**:\n",
    "- `.select()`: choose a subset of columns and perform operations on them\n",
    "- `.with_columns()`: add to the columns already available\n",
    "\n",
    "**Filtering**:\n",
    "- `.filter()`: filter the data using boolean conditions on row values\n",
    "\n",
    "**Aggregation**:\n",
    "- `.group_by()`: perform aggregations on groups of values"
   ]
  },
  {
   "cell_type": "markdown",
   "metadata": {
    "slideshow": {
     "slide_type": "subslide"
    }
   },
   "source": [
    "## Expressions\n",
    "_Expressions_ are the operations performed in Polars, things like:\n",
    "- `.sum()`\n",
    "- `.len()`\n",
    "- `.mean().over()...`\n",
    "- `when().then().otherwise()`\n",
    "- `.str.replace()`"
   ]
  },
  {
   "cell_type": "markdown",
   "metadata": {
    "slideshow": {
     "slide_type": "subslide"
    }
   },
   "source": [
    "## Lazy vs. Eager mode\n",
    "- `scan_csv()` vs. `read_csv()`\n",
    "\n",
    "### Recommendation: use Lazy mode\n",
    "- In Lazy mode, Polars will optimize the query plan"
   ]
  },
  {
   "cell_type": "markdown",
   "metadata": {
    "slideshow": {
     "slide_type": "slide"
    }
   },
   "source": [
    "# Plugin ecosystem\n",
    "You can create custom expressions to use in Polars, which will also be vectorized and run in parallel like standard Polars expressions. If there's an operation you'd like to run on your data, chances are someone has already implemented it and it's just a `pip install` away. Here are [some examples](https://docs.pola.rs/user-guide/expressions/plugins/#community-plugins)..."
   ]
  },
  {
   "cell_type": "markdown",
   "metadata": {
    "slideshow": {
     "slide_type": "subslide"
    }
   },
   "source": [
    "### [`polars_ds`](https://github.com/abstractqqq/polars_ds_extension): Polars extension for data science tasks\n",
    "> - A combination of functions and operations from scikit-learn, SciPy, and edit distance\n",
    "> - Polars is the only dependency (unless you want to create plots; that adds Plotly as a dependency)\n",
    "> - Can create bar plots within dataframe outputs (HTML `__repr__` in a notebook) -- like sparklines, and similar to what is available in pandas advanced dataframe styling options\n"
   ]
  },
  {
   "cell_type": "markdown",
   "metadata": {
    "slideshow": {
     "slide_type": "subslide"
    }
   },
   "source": [
    "### [`polars_distance`](https://github.com/ion-elgreco/polars-distance): distance calculations (e.g., word similarity) in polars\n",
    "> also includes haversine distance (lat/lon), cosine similarity, etc."
   ]
  },
  {
   "cell_type": "markdown",
   "metadata": {
    "slideshow": {
     "slide_type": "subslide"
    }
   },
   "source": [
    "### [`polars_reverse_geocode`](https://github.com/MarcoGorelli/polars-reverse-geocode): offline reverse geocoding\n",
    "> find a city based on provided lat/lon; using an offline lookup table"
   ]
  },
  {
   "cell_type": "markdown",
   "metadata": {
    "slideshow": {
     "slide_type": "subslide"
    }
   },
   "source": [
    "### Tutorial: [how to create a polars plugin](https://marcogorelli.github.io/polars-plugins-tutorial/)"
   ]
  },
  {
   "cell_type": "markdown",
   "metadata": {
    "slideshow": {
     "slide_type": "slide"
    }
   },
   "source": [
    "# Final thoughts\n",
    "\n",
    "## Upgrade weekly\n",
    "⭐ Polars development [advances rapidly](https://github.com/pola-rs/polars/releases), so I recommend upgrading often (weekly) to get the latest features\n",
    "\n",
    "## Try it out\n",
    "The best way to learn is by doing. Try using Polars any time you create a new notebook or start a new project."
   ]
  },
  {
   "cell_type": "markdown",
   "metadata": {
    "slideshow": {
     "slide_type": "slide"
    }
   },
   "source": [
    "# Resources\n",
    "- [Polars user guide](https://docs.pola.rs/user-guide/migration/pandas/): fantastic guide to learning Polars alongside helpful explanations\n",
    "- [Coming from `pandas`](https://docs.pola.rs/user-guide/migration/pandas/): are you familiar with `pandas` and want to learn the differences you'll notice when switching to polars? This guide translates common concepts to help you.\n",
    "  - [This series of articles from 2022](https://kevinheavey.github.io/modern-polars/) demonstrates some operations in pandas and polars, side-by-side. _Polars development advances rapidly, so many of the concepts covered in that series are already different. Still it will help you get a general feel for the flow of using Polars compared to pandas._\n",
    "- [Polars Python API](https://docs.pola.rs/api/python/stable/reference/index.html): detailed info on every expression, method, and function in Polars. I recommend browsing this list to get a feel for what Polars can do."
   ]
  }
 ],
 "metadata": {
  "language_info": {
   "name": "python"
  }
 },
 "nbformat": 4,
 "nbformat_minor": 2
}
